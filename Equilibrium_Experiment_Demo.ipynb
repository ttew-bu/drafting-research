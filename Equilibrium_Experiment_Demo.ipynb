{
 "cells": [
  {
   "cell_type": "code",
   "execution_count": null,
   "metadata": {},
   "outputs": [],
   "source": [
    "#import ctypes\n",
    "# ctypes.cdll.LoadLibrary(r\"C:\\Users\\trist\\anaconda3\\Lib\\site-packages\\bezier\\extra-dll\\extra-dllbezier-8f9b8e7c.dll\")\n",
    "import pandas as pd\n",
    "import numpy as np\n",
    "from Agents import *\n",
    "from mtg_experimentation_utilities import *\n",
    "from datetime import date\n",
    "import datetime\n",
    "import time"
   ]
  },
  {
   "cell_type": "code",
   "execution_count": null,
   "metadata": {},
   "outputs": [],
   "source": [
    "draft_path = 'utility_files/draft_packs_1000_2022_05_30.txt'\n",
    "cards_path = 'utility_files/VOW_Writeback.json'\n",
    "weights_path = 'utility_files/weights_writeback.json'\n",
    "weights_df_path = 'weights_data/processed_weights/VOM_weights_seen_rates_minmax.csv'"
   ]
  },
  {
   "cell_type": "code",
   "execution_count": null,
   "metadata": {},
   "outputs": [],
   "source": [
    "#BASELINES\n",
    "basic = [\n",
    "  Basic_Agent(), \n",
    "  Basic_Agent(), \n",
    "  Basic_Agent(),\n",
    "  Basic_Agent(),\n",
    "  Basic_Agent(),\n",
    "  Basic_Agent(),\n",
    "  Basic_Agent(),\n",
    "  Basic_Agent(), \n",
    "]\n",
    "\n",
    "fk = [\n",
    "Force_K_Agent(k_forced=1),\n",
    "Force_K_Agent(k_forced=1),\n",
    "Force_K_Agent(k_forced=1),\n",
    "Force_K_Agent(k_forced=1),\n",
    "Force_K_Agent(k_forced=1),\n",
    "Force_K_Agent(k_forced=1),\n",
    "Force_K_Agent(k_forced=1),\n",
    "Force_K_Agent(k_forced=1),\n",
    "]\n",
    "\n",
    "hard = [\n",
    "  Hard_Agent(bias_function='bezier'), \n",
    "  Hard_Agent(bias_function='bezier'), \n",
    "  Hard_Agent(bias_function='bezier'),\n",
    "  Hard_Agent(bias_function='bezier'),\n",
    "  Hard_Agent(bias_function='bezier'),\n",
    "  Hard_Agent(bias_function='bezier'),\n",
    "  Hard_Agent(bias_function='bezier'),\n",
    "  Hard_Agent(bias_function='bezier')\n",
    "]\n",
    "\n",
    "greedy = [\n",
    "  Greedy_Agent(), \n",
    "  Greedy_Agent(), \n",
    "  Greedy_Agent(),\n",
    "  Greedy_Agent(),\n",
    "  Greedy_Agent(),\n",
    "  Greedy_Agent(),\n",
    "  Greedy_Agent(),\n",
    "  Greedy_Agent()\n",
    "]\n",
    "\n",
    "medium = [\n",
    "  Med_Agent(arch_prefs=[0,1,3,6]),\n",
    "  Med_Agent(arch_prefs=[0,1,3,6]),\n",
    "  Med_Agent(arch_prefs=[0,1,3,6]),\n",
    "  Med_Agent(arch_prefs=[0,1,3,6]),\n",
    "  Med_Agent(arch_prefs=[0,1,3,6]),\n",
    "  Med_Agent(arch_prefs=[0,1,3,6]),\n",
    "  Med_Agent(arch_prefs=[0,1,3,6]),\n",
    "  Med_Agent(arch_prefs=[0,1,3,6])\n",
    "  ]\n",
    "\n",
    "#FK OPTIONS\n",
    "comps_fk_basic = [\n",
    "  Force_K_Agent(k_forced=1), \n",
    "  Basic_Agent(), \n",
    "  Basic_Agent(),\n",
    "  Basic_Agent(),\n",
    "  Basic_Agent(),\n",
    "  Basic_Agent(),\n",
    "  Basic_Agent(),\n",
    "  Basic_Agent()\n",
    "]\n",
    "\n",
    "comps_fk_hard = [\n",
    "  Force_K_Agent(k_forced=1), \n",
    "  Hard_Agent(bias_function='bezier'),\n",
    "  Hard_Agent(bias_function='bezier'),\n",
    "  Hard_Agent(bias_function='bezier'),\n",
    "  Hard_Agent(bias_function='bezier'),\n",
    "  Hard_Agent(bias_function='bezier'),\n",
    "  Hard_Agent(bias_function='bezier'),\n",
    "  Hard_Agent(bias_function='bezier')\n",
    "]\n",
    "\n",
    "comps_fk_greedy = [\n",
    "  Force_K_Agent(k_forced=1), \n",
    "  Greedy_Agent(), \n",
    "  Greedy_Agent(),\n",
    "  Greedy_Agent(),\n",
    "  Greedy_Agent(),\n",
    "  Greedy_Agent(),\n",
    "  Greedy_Agent(),\n",
    "  Greedy_Agent()\n",
    "]\n",
    "\n",
    "comps_fk_medium = [\n",
    "  Force_K_Agent(k_forced=1), \n",
    "  Med_Agent(arch_prefs=[0,1,3,6]), \n",
    "  Med_Agent(arch_prefs=[0,1,3,6]),\n",
    "  Med_Agent(arch_prefs=[0,1,3,6]),\n",
    "  Med_Agent(arch_prefs=[0,1,3,6]),\n",
    "  Med_Agent(arch_prefs=[0,1,3,6]),\n",
    "  Med_Agent(arch_prefs=[0,1,3,6]),\n",
    "  Med_Agent(arch_prefs=[0,1,3,6])\n",
    "]\n",
    "\n",
    "###MEDIUM OPTIONS\n",
    "comps_medium_basic = [\n",
    "  Med_Agent(arch_prefs=[0,1,3,6]), \n",
    "  Basic_Agent(), \n",
    "  Basic_Agent(),\n",
    "  Basic_Agent(),\n",
    "  Basic_Agent(),\n",
    "  Basic_Agent(),\n",
    "  Basic_Agent(),\n",
    "  Basic_Agent()\n",
    "]\n",
    "\n",
    "comps_medium_fk = [\n",
    "  Med_Agent(arch_prefs=[0,1,3,6]), \n",
    "  Force_K_Agent(k_forced=1), \n",
    "  Force_K_Agent(k_forced=1), \n",
    "  Force_K_Agent(k_forced=1),\n",
    "  Force_K_Agent(k_forced=1),\n",
    "  Force_K_Agent(k_forced=1),\n",
    "  Force_K_Agent(k_forced=1),  \n",
    "  Force_K_Agent(k_forced=1)]\n",
    "\n",
    "comps_medium_greedy = [\n",
    "  Med_Agent(arch_prefs=[0,1,3,6]), \n",
    "  Greedy_Agent(), \n",
    "  Greedy_Agent(),\n",
    "  Greedy_Agent(),\n",
    "  Greedy_Agent(),\n",
    "  Greedy_Agent(),\n",
    "  Greedy_Agent(),\n",
    "  Greedy_Agent()]\n",
    "\n",
    "comps_medium_hard = [\n",
    "  Med_Agent(arch_prefs=[0,1,3,6]), \n",
    "  Hard_Agent(bias_function='bezier'), \n",
    "  Hard_Agent(bias_function='bezier'), \n",
    "  Hard_Agent(bias_function='bezier'),  \n",
    "  Hard_Agent(bias_function='bezier'), \n",
    "  Hard_Agent(bias_function='bezier'), \n",
    "  Hard_Agent(bias_function='bezier'), \n",
    "  Hard_Agent(bias_function='bezier')\n",
    "  ]\n",
    "\n",
    "##GREEDY OPTIONS\n",
    "comps_greedy_basic = [\n",
    "  Greedy_Agent(), \n",
    "  Basic_Agent(), \n",
    "  Basic_Agent(),\n",
    "  Basic_Agent(),\n",
    "  Basic_Agent(),\n",
    "  Basic_Agent(),\n",
    "  Basic_Agent(),\n",
    "  Basic_Agent()\n",
    "]\n",
    "\n",
    "comps_greedy_fk = [\n",
    "  Greedy_Agent(), \n",
    "  Force_K_Agent(k_forced=1), \n",
    "  Force_K_Agent(k_forced=1), \n",
    "  Force_K_Agent(k_forced=1),\n",
    "  Force_K_Agent(k_forced=1),\n",
    "  Force_K_Agent(k_forced=1),\n",
    "  Force_K_Agent(k_forced=1),  \n",
    "  Force_K_Agent(k_forced=1)]\n",
    "\n",
    "comps_greedy_hard = [\n",
    "  Greedy_Agent(), \n",
    "  Hard_Agent(bias_function='bezier'), \n",
    "  Hard_Agent(bias_function='bezier'), \n",
    "  Hard_Agent(bias_function='bezier'),  \n",
    "  Hard_Agent(bias_function='bezier'), \n",
    "  Hard_Agent(bias_function='bezier'), \n",
    "  Hard_Agent(bias_function='bezier'), \n",
    "  Hard_Agent(bias_function='bezier')\n",
    "  ]\n",
    "\n",
    "comps_greedy_medium = [\n",
    "  Greedy_Agent(), \n",
    "  Med_Agent(arch_prefs=[0,1,3,6]), \n",
    "  Med_Agent(arch_prefs=[0,1,3,6]),\n",
    "  Med_Agent(arch_prefs=[0,1,3,6]),\n",
    "  Med_Agent(arch_prefs=[0,1,3,6]),\n",
    "  Med_Agent(arch_prefs=[0,1,3,6]),\n",
    "  Med_Agent(arch_prefs=[0,1,3,6]),\n",
    "  Med_Agent(arch_prefs=[0,1,3,6])\n",
    "]\n",
    "\n",
    "##BASIC COMPS\n",
    "comps_basic_hard = [\n",
    "  Basic_Agent(), \n",
    "  Hard_Agent(bias_function='bezier'),\n",
    "  Hard_Agent(bias_function='bezier'),\n",
    "  Hard_Agent(bias_function='bezier'),\n",
    "  Hard_Agent(bias_function='bezier'),\n",
    "  Hard_Agent(bias_function='bezier'),\n",
    "  Hard_Agent(bias_function='bezier'),\n",
    "  Hard_Agent(bias_function='bezier')\n",
    "]\n",
    "\n",
    "comps_basic_greedy = [\n",
    "  Basic_Agent(), \n",
    "  Greedy_Agent(), \n",
    "  Greedy_Agent(),\n",
    "  Greedy_Agent(),\n",
    "  Greedy_Agent(),\n",
    "  Greedy_Agent(),\n",
    "  Greedy_Agent(),\n",
    "  Greedy_Agent()\n",
    "]\n",
    "\n",
    "comps_basic_medium = [\n",
    "  Basic_Agent(), \n",
    "  Med_Agent(arch_prefs=[0,1,3,6]), \n",
    "  Med_Agent(arch_prefs=[0,1,3,6]),\n",
    "  Med_Agent(arch_prefs=[0,1,3,6]),\n",
    "  Med_Agent(arch_prefs=[0,1,3,6]),\n",
    "  Med_Agent(arch_prefs=[0,1,3,6]),\n",
    "  Med_Agent(arch_prefs=[0,1,3,6]),\n",
    "  Med_Agent(arch_prefs=[0,1,3,6])\n",
    "]\n",
    "\n",
    "comps_basic_fk = [\n",
    "  Basic_Agent(), \n",
    "  Force_K_Agent(k_forced=1), \n",
    "  Force_K_Agent(k_forced=1), \n",
    "  Force_K_Agent(k_forced=1),\n",
    "  Force_K_Agent(k_forced=1),\n",
    "  Force_K_Agent(k_forced=1),\n",
    "  Force_K_Agent(k_forced=1),  \n",
    "  Force_K_Agent(k_forced=1)]\n",
    "\n",
    "##HARD COMPS\n",
    "comps_hard_basic = [\n",
    "  Hard_Agent(bias_function='bezier'),\n",
    "  Basic_Agent(),\n",
    "  Basic_Agent(),\n",
    "  Basic_Agent(),\n",
    "  Basic_Agent(),\n",
    "  Basic_Agent(),  \n",
    "  Basic_Agent(),  \n",
    "  Basic_Agent()\n",
    "]\n",
    "\n",
    "comps_hard_greedy = [\n",
    "  Hard_Agent(bias_function='bezier'),\n",
    "  Greedy_Agent(),\n",
    "  Greedy_Agent(),\n",
    "  Greedy_Agent(),\n",
    "  Greedy_Agent(),\n",
    "  Greedy_Agent(),  \n",
    "  Greedy_Agent(),  \n",
    "  Greedy_Agent()\n",
    "]\n",
    "\n",
    "comps_hard_medium = [\n",
    "  Hard_Agent(bias_function='bezier'), \n",
    "  Med_Agent(arch_prefs=[0,1,3,6]), \n",
    "  Med_Agent(arch_prefs=[0,1,3,6]),\n",
    "  Med_Agent(arch_prefs=[0,1,3,6]),\n",
    "  Med_Agent(arch_prefs=[0,1,3,6]),\n",
    "  Med_Agent(arch_prefs=[0,1,3,6]),\n",
    "  Med_Agent(arch_prefs=[0,1,3,6]),\n",
    "  Med_Agent(arch_prefs=[0,1,3,6])\n",
    "]\n",
    "\n",
    "comps_hard_fk = [\n",
    "  Hard_Agent(bias_function='bezier'),\n",
    "  Force_K_Agent(k_forced=1), \n",
    "  Force_K_Agent(k_forced=1), \n",
    "  Force_K_Agent(k_forced=1),\n",
    "  Force_K_Agent(k_forced=1),\n",
    "  Force_K_Agent(k_forced=1),\n",
    "  Force_K_Agent(k_forced=1),  \n",
    "  Force_K_Agent(k_forced=1)\n",
    "]\n"
   ]
  },
  {
   "cell_type": "code",
   "execution_count": null,
   "metadata": {},
   "outputs": [],
   "source": [
    "meds = [comps_fk_medium,comps_basic_medium,comps_greedy_medium,comps_hard_medium]\n",
    "\n",
    "hards = [comps_fk_hard,comps_basic_hard,comps_greedy_hard,comps_medium_hard]\n",
    "\n",
    "basics = [comps_fk_basic,comps_hard_basic,comps_greedy_basic,comps_medium_basic]\n",
    "\n",
    "greeds = [comps_hard_greedy,comps_basic_greedy,comps_medium_greedy,comps_fk_greedy]\n",
    "\n",
    "forces = [comps_hard_fk,comps_basic_fk,comps_greedy_fk,comps_medium_fk]\n",
    "\n",
    "#Create lists of lists to feed into the batch generator. \n",
    "deviators = [meds,hards,basics,greeds,forces]\n",
    "baselines = [medium,hard,basic,greedy,fk]"
   ]
  },
  {
   "cell_type": "code",
   "execution_count": 167,
   "metadata": {},
   "outputs": [],
   "source": [
    "df = pd.read_csv('equilibrium_data/equilibrium_data_1000_baseline.csv')\n",
    "dz = pd.read_csv('equilibrium_data/equilibrium_data_1000_diff.csv')\n",
    "agentnames = ['Basic', \"Hard\", \"Greed\", \"Force\", \"Medium\"]"
   ]
  },
  {
   "cell_type": "code",
   "execution_count": 174,
   "metadata": {},
   "outputs": [],
   "source": [
    "def strategy_deviation_checker(df_baseline_results:pd.DataFrame, df_change_results:pd.DataFrame, agentnames:list, target_functions:list=['mean']):\n",
    "    \"\"\"Load the two dataframes and compare outcomes\"\"\"\n",
    "    for agent in agentnames:\n",
    "        filtered_baseline = (df_baseline_results[(df_baseline_results['player']==df_baseline_results['deviating_seat']) & (df_baseline_results['deviating_strategy'].str.contains(agent))].groupby('majority_strategy').agg({'top_archetype_score':target_functions}))\n",
    "        filtered_change = (df_change_results[(df_change_results['player']==df_change_results['deviating_seat']) & (df_change_results['deviating_strategy'].str.contains(agent))].groupby('majority_strategy').agg({'top_archetype_score':target_functions}))\n",
    "\n",
    "        filtered_baseline\n",
    "        filtered_change\n",
    "\n"
   ]
  },
  {
   "cell_type": "code",
   "execution_count": 175,
   "metadata": {},
   "outputs": [],
   "source": [
    "strategy_deviation_checker(df,dz,agentnames)"
   ]
  },
  {
   "cell_type": "code",
   "execution_count": null,
   "metadata": {},
   "outputs": [],
   "source": [
    "#generate_simulation_packs(n_iter=1000)\n",
    "#simulation_batch_runner(baselines,deviators,cards_path,weights_path,draft_path,n_iter=1000)"
   ]
  },
  {
   "cell_type": "code",
   "execution_count": 159,
   "metadata": {},
   "outputs": [
    {
     "name": "stdout",
     "output_type": "stream",
     "text": [
      "[8]\n",
      "[8]\n"
     ]
    }
   ],
   "source": [
    "#This validation check ensures we got the correct # seats for everything\n",
    "print(df.groupby('simid')['top_archetype_score'].count().unique())\n",
    "print(dz.groupby('simid')['top_archetype_score'].count().unique())"
   ]
  },
  {
   "cell_type": "code",
   "execution_count": 161,
   "metadata": {},
   "outputs": [
    {
     "name": "stdout",
     "output_type": "stream",
     "text": [
      "53.70883843901177\n",
      "53.71631138646622\n",
      "53.714315997174374\n",
      "53.816959332903096\n",
      "53.84039176040773\n",
      "53.7604887925371\n",
      "53.73976395087242\n",
      "53.74042954283519\n"
     ]
    }
   ],
   "source": [
    "for p in range(0,8):    \n",
    "    print(df[(df['player']==p) & (df['deviating_strategy'].str.contains('Basic'))]['top_archetype_score'].mean())"
   ]
  },
  {
   "cell_type": "code",
   "execution_count": 162,
   "metadata": {},
   "outputs": [
    {
     "name": "stdout",
     "output_type": "stream",
     "text": [
      "57.97914773201212\n",
      "53.513322635248116\n",
      "53.51668056493763\n",
      "53.567596798597265\n",
      "53.61879756122794\n",
      "53.52451288397887\n",
      "53.4375886144252\n",
      "53.43549374576948\n"
     ]
    }
   ],
   "source": [
    "for p in range(0,8):    \n",
    "    print(dz[(dz['player']==p) & (dz['deviating_strategy'].str.contains('Basic'))]['top_archetype_score'].mean())"
   ]
  },
  {
   "cell_type": "code",
   "execution_count": 163,
   "metadata": {},
   "outputs": [
    {
     "data": {
      "text/html": [
       "<div>\n",
       "<style scoped>\n",
       "    .dataframe tbody tr th:only-of-type {\n",
       "        vertical-align: middle;\n",
       "    }\n",
       "\n",
       "    .dataframe tbody tr th {\n",
       "        vertical-align: top;\n",
       "    }\n",
       "\n",
       "    .dataframe thead tr th {\n",
       "        text-align: left;\n",
       "    }\n",
       "\n",
       "    .dataframe thead tr:last-of-type th {\n",
       "        text-align: right;\n",
       "    }\n",
       "</style>\n",
       "<table border=\"1\" class=\"dataframe\">\n",
       "  <thead>\n",
       "    <tr>\n",
       "      <th></th>\n",
       "      <th colspan=\"2\" halign=\"left\">top_archetype_score</th>\n",
       "    </tr>\n",
       "    <tr>\n",
       "      <th></th>\n",
       "      <th>mean</th>\n",
       "      <th>std</th>\n",
       "    </tr>\n",
       "    <tr>\n",
       "      <th>majority_strategy</th>\n",
       "      <th></th>\n",
       "      <th></th>\n",
       "    </tr>\n",
       "  </thead>\n",
       "  <tbody>\n",
       "    <tr>\n",
       "      <th>&lt;Agents.Force_K_Agent object at 0x0000013B3AAF1C40&gt;</th>\n",
       "      <td>-0.522461</td>\n",
       "      <td>-0.179814</td>\n",
       "    </tr>\n",
       "    <tr>\n",
       "      <th>&lt;Agents.Greedy_Agent object at 0x0000013B3AAF62E0&gt;</th>\n",
       "      <td>1.219589</td>\n",
       "      <td>0.195367</td>\n",
       "    </tr>\n",
       "    <tr>\n",
       "      <th>&lt;Agents.Hard_Agent object at 0x0000013B3AAF1FD0&gt;</th>\n",
       "      <td>0.103567</td>\n",
       "      <td>0.055452</td>\n",
       "    </tr>\n",
       "    <tr>\n",
       "      <th>&lt;Agents.Med_Agent object at 0x0000013B3AAF6460&gt;</th>\n",
       "      <td>16.280542</td>\n",
       "      <td>2.191930</td>\n",
       "    </tr>\n",
       "  </tbody>\n",
       "</table>\n",
       "</div>"
      ],
      "text/plain": [
       "                                                   top_archetype_score  \\\n",
       "                                                                  mean   \n",
       "majority_strategy                                                        \n",
       "<Agents.Force_K_Agent object at 0x0000013B3AAF1...           -0.522461   \n",
       "<Agents.Greedy_Agent object at 0x0000013B3AAF62E0>            1.219589   \n",
       "<Agents.Hard_Agent object at 0x0000013B3AAF1FD0>              0.103567   \n",
       "<Agents.Med_Agent object at 0x0000013B3AAF6460>              16.280542   \n",
       "\n",
       "                                                              \n",
       "                                                         std  \n",
       "majority_strategy                                             \n",
       "<Agents.Force_K_Agent object at 0x0000013B3AAF1... -0.179814  \n",
       "<Agents.Greedy_Agent object at 0x0000013B3AAF62E0>  0.195367  \n",
       "<Agents.Hard_Agent object at 0x0000013B3AAF1FD0>    0.055452  \n",
       "<Agents.Med_Agent object at 0x0000013B3AAF6460>     2.191930  "
      ]
     },
     "execution_count": 163,
     "metadata": {},
     "output_type": "execute_result"
    }
   ],
   "source": [
    "(dz[(dz['player']==0) & (dz['deviating_strategy'].str.contains('Basic'))].groupby('majority_strategy').agg({'top_archetype_score':['mean','std']})) -  (df[(df['player']==0) & (df['deviating_strategy'].str.contains('Basic'))].groupby('majority_strategy').agg({'top_archetype_score':['mean','std']}))"
   ]
  },
  {
   "cell_type": "code",
   "execution_count": 164,
   "metadata": {},
   "outputs": [
    {
     "data": {
      "text/html": [
       "<div>\n",
       "<style scoped>\n",
       "    .dataframe tbody tr th:only-of-type {\n",
       "        vertical-align: middle;\n",
       "    }\n",
       "\n",
       "    .dataframe tbody tr th {\n",
       "        vertical-align: top;\n",
       "    }\n",
       "\n",
       "    .dataframe thead tr th {\n",
       "        text-align: left;\n",
       "    }\n",
       "\n",
       "    .dataframe thead tr:last-of-type th {\n",
       "        text-align: right;\n",
       "    }\n",
       "</style>\n",
       "<table border=\"1\" class=\"dataframe\">\n",
       "  <thead>\n",
       "    <tr>\n",
       "      <th></th>\n",
       "      <th colspan=\"2\" halign=\"left\">top_archetype_score</th>\n",
       "    </tr>\n",
       "    <tr>\n",
       "      <th></th>\n",
       "      <th>mean</th>\n",
       "      <th>std</th>\n",
       "    </tr>\n",
       "    <tr>\n",
       "      <th>majority_strategy</th>\n",
       "      <th></th>\n",
       "      <th></th>\n",
       "    </tr>\n",
       "  </thead>\n",
       "  <tbody>\n",
       "    <tr>\n",
       "      <th>&lt;Agents.Basic_Agent object at 0x0000013B3AAF1CA0&gt;</th>\n",
       "      <td>-0.097626</td>\n",
       "      <td>-0.049332</td>\n",
       "    </tr>\n",
       "    <tr>\n",
       "      <th>&lt;Agents.Force_K_Agent object at 0x0000013B3AAF1C40&gt;</th>\n",
       "      <td>-0.598940</td>\n",
       "      <td>-0.175240</td>\n",
       "    </tr>\n",
       "    <tr>\n",
       "      <th>&lt;Agents.Greedy_Agent object at 0x0000013B3AAF62E0&gt;</th>\n",
       "      <td>1.153917</td>\n",
       "      <td>0.165841</td>\n",
       "    </tr>\n",
       "    <tr>\n",
       "      <th>&lt;Agents.Med_Agent object at 0x0000013B3AAF6460&gt;</th>\n",
       "      <td>16.245266</td>\n",
       "      <td>2.164825</td>\n",
       "    </tr>\n",
       "  </tbody>\n",
       "</table>\n",
       "</div>"
      ],
      "text/plain": [
       "                                                   top_archetype_score  \\\n",
       "                                                                  mean   \n",
       "majority_strategy                                                        \n",
       "<Agents.Basic_Agent object at 0x0000013B3AAF1CA0>            -0.097626   \n",
       "<Agents.Force_K_Agent object at 0x0000013B3AAF1...           -0.598940   \n",
       "<Agents.Greedy_Agent object at 0x0000013B3AAF62E0>            1.153917   \n",
       "<Agents.Med_Agent object at 0x0000013B3AAF6460>              16.245266   \n",
       "\n",
       "                                                              \n",
       "                                                         std  \n",
       "majority_strategy                                             \n",
       "<Agents.Basic_Agent object at 0x0000013B3AAF1CA0>  -0.049332  \n",
       "<Agents.Force_K_Agent object at 0x0000013B3AAF1... -0.175240  \n",
       "<Agents.Greedy_Agent object at 0x0000013B3AAF62E0>  0.165841  \n",
       "<Agents.Med_Agent object at 0x0000013B3AAF6460>     2.164825  "
      ]
     },
     "execution_count": 164,
     "metadata": {},
     "output_type": "execute_result"
    }
   ],
   "source": [
    "(dz[(dz['player']==0) & (dz['deviating_strategy'].str.contains('Hard'))].groupby('majority_strategy').agg({'top_archetype_score':['mean','std']})) -  (df[(df['player']==0) & (df['deviating_strategy'].str.contains('Hard'))].groupby('majority_strategy').agg({'top_archetype_score':['mean','std']}))"
   ]
  },
  {
   "cell_type": "code",
   "execution_count": 165,
   "metadata": {},
   "outputs": [
    {
     "data": {
      "text/html": [
       "<div>\n",
       "<style scoped>\n",
       "    .dataframe tbody tr th:only-of-type {\n",
       "        vertical-align: middle;\n",
       "    }\n",
       "\n",
       "    .dataframe tbody tr th {\n",
       "        vertical-align: top;\n",
       "    }\n",
       "\n",
       "    .dataframe thead tr th {\n",
       "        text-align: left;\n",
       "    }\n",
       "\n",
       "    .dataframe thead tr:last-of-type th {\n",
       "        text-align: right;\n",
       "    }\n",
       "</style>\n",
       "<table border=\"1\" class=\"dataframe\">\n",
       "  <thead>\n",
       "    <tr>\n",
       "      <th></th>\n",
       "      <th colspan=\"2\" halign=\"left\">top_archetype_score</th>\n",
       "    </tr>\n",
       "    <tr>\n",
       "      <th></th>\n",
       "      <th>mean</th>\n",
       "      <th>std</th>\n",
       "    </tr>\n",
       "    <tr>\n",
       "      <th>majority_strategy</th>\n",
       "      <th></th>\n",
       "      <th></th>\n",
       "    </tr>\n",
       "  </thead>\n",
       "  <tbody>\n",
       "    <tr>\n",
       "      <th>&lt;Agents.Basic_Agent object at 0x0000013B3AAF1CA0&gt;</th>\n",
       "      <td>53.850092</td>\n",
       "      <td>2.129503</td>\n",
       "    </tr>\n",
       "    <tr>\n",
       "      <th>&lt;Agents.Force_K_Agent object at 0x0000013B3AAF1C40&gt;</th>\n",
       "      <td>54.383014</td>\n",
       "      <td>2.207448</td>\n",
       "    </tr>\n",
       "    <tr>\n",
       "      <th>&lt;Agents.Greedy_Agent object at 0x0000013B3AAF62E0&gt;</th>\n",
       "      <td>54.218437</td>\n",
       "      <td>1.976707</td>\n",
       "    </tr>\n",
       "    <tr>\n",
       "      <th>&lt;Agents.Med_Agent object at 0x0000013B3AAF6460&gt;</th>\n",
       "      <td>69.228866</td>\n",
       "      <td>4.286944</td>\n",
       "    </tr>\n",
       "  </tbody>\n",
       "</table>\n",
       "</div>"
      ],
      "text/plain": [
       "                                                   top_archetype_score  \\\n",
       "                                                                  mean   \n",
       "majority_strategy                                                        \n",
       "<Agents.Basic_Agent object at 0x0000013B3AAF1CA0>            53.850092   \n",
       "<Agents.Force_K_Agent object at 0x0000013B3AAF1...           54.383014   \n",
       "<Agents.Greedy_Agent object at 0x0000013B3AAF62E0>           54.218437   \n",
       "<Agents.Med_Agent object at 0x0000013B3AAF6460>              69.228866   \n",
       "\n",
       "                                                              \n",
       "                                                         std  \n",
       "majority_strategy                                             \n",
       "<Agents.Basic_Agent object at 0x0000013B3AAF1CA0>   2.129503  \n",
       "<Agents.Force_K_Agent object at 0x0000013B3AAF1...  2.207448  \n",
       "<Agents.Greedy_Agent object at 0x0000013B3AAF62E0>  1.976707  \n",
       "<Agents.Med_Agent object at 0x0000013B3AAF6460>     4.286944  "
      ]
     },
     "execution_count": 165,
     "metadata": {},
     "output_type": "execute_result"
    }
   ],
   "source": [
    " (dz[(dz['player']==0) & (dz['deviating_strategy'].str.contains('Hard'))].groupby('majority_strategy').agg({'top_archetype_score':['mean','std']}))"
   ]
  },
  {
   "cell_type": "code",
   "execution_count": 166,
   "metadata": {},
   "outputs": [
    {
     "data": {
      "text/html": [
       "<div>\n",
       "<style scoped>\n",
       "    .dataframe tbody tr th:only-of-type {\n",
       "        vertical-align: middle;\n",
       "    }\n",
       "\n",
       "    .dataframe tbody tr th {\n",
       "        vertical-align: top;\n",
       "    }\n",
       "\n",
       "    .dataframe thead tr th {\n",
       "        text-align: left;\n",
       "    }\n",
       "\n",
       "    .dataframe thead tr:last-of-type th {\n",
       "        text-align: right;\n",
       "    }\n",
       "</style>\n",
       "<table border=\"1\" class=\"dataframe\">\n",
       "  <thead>\n",
       "    <tr>\n",
       "      <th></th>\n",
       "      <th colspan=\"2\" halign=\"left\">top_archetype_score</th>\n",
       "    </tr>\n",
       "    <tr>\n",
       "      <th></th>\n",
       "      <th>mean</th>\n",
       "      <th>std</th>\n",
       "    </tr>\n",
       "    <tr>\n",
       "      <th>majority_strategy</th>\n",
       "      <th></th>\n",
       "      <th></th>\n",
       "    </tr>\n",
       "  </thead>\n",
       "  <tbody>\n",
       "    <tr>\n",
       "      <th>&lt;Agents.Basic_Agent object at 0x0000013B3AAF1CA0&gt;</th>\n",
       "      <td>54.726471</td>\n",
       "      <td>2.269628</td>\n",
       "    </tr>\n",
       "    <tr>\n",
       "      <th>&lt;Agents.Greedy_Agent object at 0x0000013B3AAF62E0&gt;</th>\n",
       "      <td>54.930852</td>\n",
       "      <td>2.168509</td>\n",
       "    </tr>\n",
       "    <tr>\n",
       "      <th>&lt;Agents.Hard_Agent object at 0x0000013B3AAF1FD0&gt;</th>\n",
       "      <td>54.684737</td>\n",
       "      <td>2.247361</td>\n",
       "    </tr>\n",
       "    <tr>\n",
       "      <th>&lt;Agents.Med_Agent object at 0x0000013B3AAF6460&gt;</th>\n",
       "      <td>68.808808</td>\n",
       "      <td>4.345225</td>\n",
       "    </tr>\n",
       "  </tbody>\n",
       "</table>\n",
       "</div>"
      ],
      "text/plain": [
       "                                                   top_archetype_score  \\\n",
       "                                                                  mean   \n",
       "majority_strategy                                                        \n",
       "<Agents.Basic_Agent object at 0x0000013B3AAF1CA0>            54.726471   \n",
       "<Agents.Greedy_Agent object at 0x0000013B3AAF62E0>           54.930852   \n",
       "<Agents.Hard_Agent object at 0x0000013B3AAF1FD0>             54.684737   \n",
       "<Agents.Med_Agent object at 0x0000013B3AAF6460>              68.808808   \n",
       "\n",
       "                                                              \n",
       "                                                         std  \n",
       "majority_strategy                                             \n",
       "<Agents.Basic_Agent object at 0x0000013B3AAF1CA0>   2.269628  \n",
       "<Agents.Greedy_Agent object at 0x0000013B3AAF62E0>  2.168509  \n",
       "<Agents.Hard_Agent object at 0x0000013B3AAF1FD0>    2.247361  \n",
       "<Agents.Med_Agent object at 0x0000013B3AAF6460>     4.345225  "
      ]
     },
     "execution_count": 166,
     "metadata": {},
     "output_type": "execute_result"
    }
   ],
   "source": [
    " (dz[(dz['player']==0) & (dz['deviating_strategy'].str.contains('Force'))].groupby('majority_strategy').agg({'top_archetype_score':['mean','std']}))"
   ]
  },
  {
   "cell_type": "code",
   "execution_count": null,
   "metadata": {},
   "outputs": [],
   "source": [
    " (df[(df['player']==0) & (df['deviating_strategy'].str.contains('Hard'))].groupby('majority_strategy').agg({'top_archetype_score':['mean','std']}))"
   ]
  },
  {
   "cell_type": "code",
   "execution_count": null,
   "metadata": {},
   "outputs": [],
   "source": [
    "(df[(df['player']==0) & (df['deviating_strategy'].str.contains('Force'))].groupby('majority_strategy').agg({'top_archetype_score':['mean','std']}))"
   ]
  },
  {
   "cell_type": "code",
   "execution_count": null,
   "metadata": {},
   "outputs": [],
   "source": [
    "(dz[(dz['player']==0) & (dz['deviating_strategy'].str.contains('Force'))].groupby('majority_strategy').agg({'top_archetype_score':['mean','std']}))"
   ]
  },
  {
   "cell_type": "code",
   "execution_count": null,
   "metadata": {},
   "outputs": [],
   "source": [
    "(df[(df['player']==0) & (df['deviating_strategy'].str.contains('Med'))].groupby('majority_strategy').agg({'top_archetype_score':['mean','std','count']}))"
   ]
  },
  {
   "cell_type": "code",
   "execution_count": null,
   "metadata": {},
   "outputs": [],
   "source": [
    " (dz[(dz['player']==0) & (dz['deviating_strategy'].str.contains('Greed'))].groupby('majority_strategy').agg({'top_archetype_score':['mean','std']}))"
   ]
  },
  {
   "cell_type": "code",
   "execution_count": null,
   "metadata": {},
   "outputs": [],
   "source": [
    " (df[(df['player']==0) & (df['deviating_strategy'].str.contains('Greed'))].groupby('majority_strategy').agg({'top_archetype_score':['mean','std']}))"
   ]
  },
  {
   "cell_type": "code",
   "execution_count": null,
   "metadata": {},
   "outputs": [],
   "source": [
    " (dz[(dz['player']==0) & (dz['deviating_strategy'].str.contains('Force'))].groupby('majority_strategy').agg({'top_archetype_score':['mean','std']}))"
   ]
  },
  {
   "cell_type": "code",
   "execution_count": null,
   "metadata": {},
   "outputs": [],
   "source": [
    " (dz[(dz['player']==1) & (dz['deviating_strategy'].str.contains('Basic'))].groupby('majority_strategy').agg({'top_archetype_score':['mean','std']}))"
   ]
  },
  {
   "cell_type": "code",
   "execution_count": null,
   "metadata": {},
   "outputs": [],
   "source": [
    " (dz[(dz['player']==7) & (dz['deviating_strategy'].str.contains('Basic'))].groupby('majority_strategy').agg({'top_archetype_score':['mean','std']}))"
   ]
  },
  {
   "cell_type": "code",
   "execution_count": null,
   "metadata": {},
   "outputs": [],
   "source": [
    "for p in range(0,8):   \n",
    "    print(dz[(dz['player']==p) & (dz['deviatiing_strategy'].str.contains('Greed'))]['top_archetype_score'].mean())"
   ]
  },
  {
   "cell_type": "code",
   "execution_count": null,
   "metadata": {},
   "outputs": [],
   "source": [
    "delta_df = pd.read_csv('deltas.csv').set_index('Majority')"
   ]
  },
  {
   "cell_type": "code",
   "execution_count": null,
   "metadata": {},
   "outputs": [],
   "source": [
    "import seaborn as sns\n",
    "\n",
    "sns.heatmap(delta_df.iloc[0:3])"
   ]
  },
  {
   "cell_type": "code",
   "execution_count": null,
   "metadata": {},
   "outputs": [],
   "source": [
    "sns.heatmap(delta_df)"
   ]
  },
  {
   "cell_type": "code",
   "execution_count": null,
   "metadata": {},
   "outputs": [],
   "source": [
    "comp_generator(10,comps_basic_fk,fk,14,3,cards_path,weights_path,draft_path)\n",
    "comp_generator(10,comps_greedy_fk,fk,14,3,cards_path,weights_path,draft_path)\n",
    "comp_generator(10,comps_hard_fk,fk,14,3,cards_path,weights_path,draft_path)\n",
    "comp_generator(10,comps_medium_fk,fk,14,3,cards_path,weights_path,draft_path)"
   ]
  },
  {
   "cell_type": "code",
   "execution_count": null,
   "metadata": {},
   "outputs": [],
   "source": []
  },
  {
   "cell_type": "code",
   "execution_count": null,
   "metadata": {},
   "outputs": [],
   "source": [
    "df[df['player']==0]"
   ]
  },
  {
   "cell_type": "code",
   "execution_count": null,
   "metadata": {},
   "outputs": [],
   "source": [
    "df2[df2['player']==0]"
   ]
  },
  {
   "cell_type": "code",
   "execution_count": null,
   "metadata": {},
   "outputs": [],
   "source": [
    "df[df['player']==1]"
   ]
  },
  {
   "cell_type": "code",
   "execution_count": null,
   "metadata": {},
   "outputs": [],
   "source": [
    "df2[df2['player']==1]"
   ]
  },
  {
   "cell_type": "code",
   "execution_count": null,
   "metadata": {},
   "outputs": [],
   "source": [
    "df[df['player']==7]"
   ]
  },
  {
   "cell_type": "code",
   "execution_count": null,
   "metadata": {},
   "outputs": [],
   "source": [
    "df2[df2['player']==7]"
   ]
  },
  {
   "cell_type": "code",
   "execution_count": null,
   "metadata": {},
   "outputs": [],
   "source": [
    "import re\n",
    "\n",
    "g = []\n",
    "with open('utility_files/VOW.json', encoding=\"utf8\") as f:\n",
    "    data = json.load(f)\n",
    "    \n",
    "    index = 0\n",
    "    for c in data['data']['cards']:\n",
    "        index +=1\n",
    "\n",
    "        p = re.compile('[A]-')\n",
    "\n",
    "        if len(p.findall(c['name']))>0:\n",
    "            data['data']['cards'].remove(c)\n",
    "            print(c['name'])\n",
    "            print(\"cut\")\n",
    "\n",
    "        elif '//' in c['name']:\n",
    "            c['name'] = c['name'].split(\"//\")[0]\n",
    "            c['name'] = c['name'].strip()\n",
    "            print(c['name'])\n",
    "            \n",
    "            if c['name'] in g:\n",
    "                print('passed')\n",
    "            else:\n",
    "                print('added')\n",
    "                g.append(c['name'])\n",
    "\n",
    "        else:\n",
    "            print(c['name'])\n",
    "            print(\"added normally\")\n",
    "            g.append(c['name'])\n",
    "\n",
    "    g.append(\"Stormchaser Drake\")\n",
    "    keys = sorted(list(set(g)))\n",
    "\n",
    "    f.close()"
   ]
  },
  {
   "cell_type": "code",
   "execution_count": null,
   "metadata": {},
   "outputs": [],
   "source": [
    "lc = [x for x in data['data']['cards']]"
   ]
  },
  {
   "cell_type": "code",
   "execution_count": null,
   "metadata": {},
   "outputs": [],
   "source": [
    "names = []\n",
    "accum = []\n",
    "for item in lc:\n",
    "    if item['name'] in names:\n",
    "        pass\n",
    "    else:\n",
    "        names.append(item['name'])\n",
    "        accum.append(item)"
   ]
  },
  {
   "cell_type": "code",
   "execution_count": null,
   "metadata": {},
   "outputs": [],
   "source": [
    "dicto = {'cards':accum}"
   ]
  },
  {
   "cell_type": "code",
   "execution_count": null,
   "metadata": {},
   "outputs": [],
   "source": [
    "df = pd.read_csv('weights_data/processed_weights/VOM_weights_seen_rates_minmax.csv')\n",
    "df2 = pd.read_csv('weights_data/source_weights/VOM_Weights_default__seen_rates_df.csv')\n",
    "df['name'] = df2['Name']\n",
    "\n",
    "d = df.set_index('name').T.to_dict()\n",
    "with open(\"weights_writeback.json\", 'w',encoding='utf-8') as fp:\n",
    "    json.dump(d, fp, ensure_ascii=False)"
   ]
  },
  {
   "cell_type": "code",
   "execution_count": null,
   "metadata": {},
   "outputs": [],
   "source": []
  }
 ],
 "metadata": {
  "kernelspec": {
   "display_name": "Python 3",
   "language": "python",
   "name": "python3"
  },
  "language_info": {
   "codemirror_mode": {
    "name": "ipython",
    "version": 3
   },
   "file_extension": ".py",
   "mimetype": "text/x-python",
   "name": "python",
   "nbconvert_exporter": "python",
   "pygments_lexer": "ipython3",
   "version": "3.8.10"
  },
  "vscode": {
   "interpreter": {
    "hash": "65f9f27c5d39846ec0d18dab7c8917293d7174586b733019df5040085123116a"
   }
  }
 },
 "nbformat": 4,
 "nbformat_minor": 4
}
