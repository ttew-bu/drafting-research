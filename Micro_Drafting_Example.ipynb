{
 "cells": [
  {
   "cell_type": "code",
   "execution_count": 1,
   "metadata": {},
   "outputs": [],
   "source": [
    "from draftbot_sim_adapted import *\n",
    "import sqlite3\n",
    "import pandas as pd\n",
    "import numpy as np\n",
    "import json\n",
    "import os"
   ]
  },
  {
   "cell_type": "code",
   "execution_count": 2,
   "metadata": {},
   "outputs": [],
   "source": [
    "draft_path = 'C:/Users/trist/mtg_research/test_draft.txt'\n",
    "cards_path = 'C:/Users/trist/mtg_research/mtg_draftbot/data/m20/m20-cards.json'\n",
    "weights_path = 'C:/Users/trist/mtg_research/mtg_draftbot/data/new_generated_weights.json'\n",
    "#Paths to the db files holding our outputs\n",
    "ss_db_path = 'SingleStrat.sqlite'\n",
    "ms_db_path = 'MultiStrat.sqlite'\n",
    "\n",
    "agents = [\n",
    "  Basic_Agent.decision_function, \n",
    "  Basic_Agent.decision_function, \n",
    "  Naive_Pass_Agent.decision_function,\n",
    "  Basic_Agent.decision_function,\n",
    "  Basic_Agent.decision_function,\n",
    "  Basic_Agent.decision_function,\n",
    "  Basic_Agent.decision_function,\n",
    "  Basic_Agent.decision_function, \n",
    "]"
   ]
  },
  {
   "cell_type": "code",
   "execution_count": 3,
   "metadata": {},
   "outputs": [],
   "source": [
    "draft_ss = Draft(n_drafters=8,\n",
    "        n_rounds=3,\n",
    "        n_cards_in_pack=14,\n",
    "        cards_path=cards_path,\n",
    "        card_values_path=weights_path)\n",
    "\n",
    "draft_ms = MultiStratDraft(\n",
    "        n_rounds=3,\n",
    "        n_cards_in_pack=14,\n",
    "        cards_path=cards_path,\n",
    "        card_values_path=weights_path,\n",
    "        packs_input_file=draft_path,\n",
    "        agent_list=agents)"
   ]
  },
  {
   "cell_type": "code",
   "execution_count": 5,
   "metadata": {},
   "outputs": [
    {
     "name": "stderr",
     "output_type": "stream",
     "text": [
      "C:\\Users\\trist\\AppData\\Local\\Programs\\Python\\Python38\\lib\\site-packages\\pandas\\core\\generic.py:2779: UserWarning: The spaces in these column names will not be changed. In pandas versions < 0.14, spaces were converted to underscores.\n",
      "  sql.to_sql(\n"
     ]
    }
   ],
   "source": [
    "draft_ss.draft()\n",
    "draft_ss.write_to_database(ss_db_path)\n",
    "if os.path.exists(draft_path):\n",
    "    os.remove(draft_path)\n",
    "save_packs_array(draft_ss,draft_path)\n",
    "draft_ms.draft()\n",
    "draft_ms.write_to_database(ms_db_path)"
   ]
  },
  {
   "cell_type": "code",
   "execution_count": 6,
   "metadata": {},
   "outputs": [],
   "source": [
    "ss_conn = sqlite3.connect(ss_db_path)\n",
    "ms_conn = sqlite3.connect(ms_db_path)\n",
    "\n",
    "ss_picks_df = pd.read_sql(\"Select * From Picks\",ss_conn)\n",
    "ss_options_df = pd.read_sql(\"Select * From Options\",ss_conn)\n",
    "#ss_passes_df = pd.read_sql(\"Select * From Passes\",ss_conn)\n",
    "ss_prefs_df = pd.read_sql(\"Select * From Preferences\",ss_conn)"
   ]
  },
  {
   "cell_type": "code",
   "execution_count": 7,
   "metadata": {},
   "outputs": [],
   "source": [
    "ms_picks_df = pd.read_sql(\"Select * From Picks\",ms_conn)\n",
    "ms_options_df = pd.read_sql(\"Select * From Options\",ms_conn)\n",
    "ms_pass_df = pd.read_sql(\"Select * From Passes\",ms_conn)\n",
    "ms_prefs_df = pd.read_sql(\"Select * From Preferences\",ms_conn)"
   ]
  },
  {
   "cell_type": "code",
   "execution_count": 8,
   "metadata": {},
   "outputs": [],
   "source": [
    "mpdf = ms_picks_df.drop(columns=['pick_number','drafter','draft_id'])\n",
    "spdf = ss_picks_df.drop(columns=['pick_number','drafter','draft_id'])\n",
    "\n",
    "\n",
    "msof = ms_options_df.drop(columns=['pick_number','drafter','draft_id'])\n",
    "ssof = ss_options_df.drop(columns=['pick_number','drafter','draft_id'])\n",
    "\n",
    "ms_pass_df = ms_pass_df.drop(columns=['pick_number','drafter','draft_id'])\n",
    "\n",
    "ms_prefs_df = ms_prefs_df.drop(columns=['pick_number','drafter','draft_id'])\n",
    "ss_prefs_df = ss_prefs_df.drop(columns=['pick_number','drafter','draft_id'])"
   ]
  },
  {
   "cell_type": "code",
   "execution_count": 24,
   "metadata": {},
   "outputs": [
    {
     "name": "stdout",
     "output_type": "stream",
     "text": [
      "pick: [153]\n",
      "options: [  5  56 110 117 153 186 286]\n",
      "passes: [  0   5   9  11  14  20  21  22  23  26  27  28  30  33  34  35  36  40\n",
      "  43  44  49  50  53  55  56  58  62  64  66  67  69  70  71  72  73  74\n",
      "  77  78  80  82  90  91  93  94  95  96  97  99 101 102 103 106 107 108\n",
      " 110 112 114 116 117 118 120 121 127 128 129 131 132 133 134 135 136 139\n",
      " 142 143 145 146 148 151 153 156 157 158 160 169 171 172 173 174 176 179\n",
      " 181 183 184 185 186 189 190 193 196 198 200 201 202 204 205 206 207 210\n",
      " 213 215 216 219 220 221 222 223 224 226 229 233 234 235 236 242 243 244\n",
      " 245 247 250 260 261 266 269 271 273 274 275 276 277 278 282 284 285 286\n",
      " 287 289 290 292 296 298 300 301 304 306 311 318 324 327]\n",
      "pick [117]\n",
      "options: [  5  56 110 117 153 186 286]\n"
     ]
    }
   ],
   "source": [
    "pick_to_explore = 105\n",
    "\n",
    "print('pick:',np.where(mpdf.iloc[pick_to_explore]==1)[0])\n",
    "print('options:',np.where(msof.iloc[pick_to_explore]==1)[0])\n",
    "print('passes:',np.where(np.sum(ms_pass_df.iloc[0:pick_to_explore],axis=0)!=0)[0])\n",
    "\n",
    "print('pick',np.where(spdf.iloc[pick_to_explore]==1)[0])\n",
    "print('options:',np.where(ssof.iloc[pick_to_explore]==1)[0])\n",
    "#print(ss_prefs_df.iloc[35])"
   ]
  },
  {
   "cell_type": "code",
   "execution_count": 9,
   "metadata": {},
   "outputs": [],
   "source": [
    "ms_conn.close()\n",
    "ss_conn.close()"
   ]
  }
 ],
 "metadata": {
  "interpreter": {
   "hash": "357d08fc6475d5f3d7f5382ddf4b1a0cd6014611561001adf4b40c4ba2d37830"
  },
  "kernelspec": {
   "display_name": "Python 3.8.10 64-bit",
   "language": "python",
   "name": "python3"
  },
  "language_info": {
   "codemirror_mode": {
    "name": "ipython",
    "version": 3
   },
   "file_extension": ".py",
   "mimetype": "text/x-python",
   "name": "python",
   "nbconvert_exporter": "python",
   "pygments_lexer": "ipython3",
   "version": "3.8.10"
  },
  "orig_nbformat": 4
 },
 "nbformat": 4,
 "nbformat_minor": 2
}
