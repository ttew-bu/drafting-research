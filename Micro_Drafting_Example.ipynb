{
 "cells": [
  {
   "cell_type": "code",
   "execution_count": 1,
   "metadata": {},
   "outputs": [],
   "source": [
    "from mtg_draftbot.draftbot.draftbot_sim import *\n",
    "from draftbot_sim_adapted import MultiStratDraft\n",
    "import sqlite3\n",
    "import pandas as pd\n",
    "import numpy as np\n",
    "import json\n",
    "import os"
   ]
  },
  {
   "cell_type": "code",
   "execution_count": 2,
   "metadata": {},
   "outputs": [],
   "source": [
    "draft_path = 'C:/Users/trist/mtg_research/test_draft.txt'\n",
    "cards_path = 'C:/Users/trist/mtg_research/mtg_draftbot/data/m20/m20-cards.json'\n",
    "weights_path = 'C:/Users/trist/mtg_research/mtg_draftbot/data/new_generated_weights.json'\n",
    "#Paths to the db files holding our outputs\n",
    "ss_db_path = 'SingleStrat.sqlite'\n",
    "ms_db_path = 'MultiStrat.sqlite'"
   ]
  },
  {
   "cell_type": "code",
   "execution_count": 3,
   "metadata": {},
   "outputs": [],
   "source": [
    "draft_ss = Draft(n_drafters=8,\n",
    "        n_rounds=3,\n",
    "        n_cards_in_pack=14,\n",
    "        cards_path=cards_path,\n",
    "        card_values_path=weights_path)\n",
    "\n",
    "draft_ms = MultiStratDraft(n_drafters_strat_one=2,\n",
    "        strat_one='naive passes',\n",
    "        n_drafters_strat_two=6,\n",
    "        n_rounds=3,\n",
    "        n_cards_in_pack=14,\n",
    "        cards_path=cards_path,\n",
    "        card_values_path=weights_path,\n",
    "        packs_input_file=draft_path)"
   ]
  },
  {
   "cell_type": "code",
   "execution_count": 4,
   "metadata": {},
   "outputs": [
    {
     "name": "stderr",
     "output_type": "stream",
     "text": [
      "C:\\Users\\trist\\AppData\\Local\\Programs\\Python\\Python38\\lib\\site-packages\\pandas\\core\\generic.py:2779: UserWarning: The spaces in these column names will not be changed. In pandas versions < 0.14, spaces were converted to underscores.\n",
      "  sql.to_sql(\n"
     ]
    }
   ],
   "source": [
    "draft_ss.draft()\n",
    "draft_ss.write_to_database(ss_db_path)\n",
    "if os.path.exists(draft_path):\n",
    "    os.remove(draft_path)\n",
    "save_packs_array(draft_ss,draft_path)\n",
    "draft_ms.draft()\n",
    "draft_ms.write_to_database(ms_db_path)"
   ]
  },
  {
   "cell_type": "code",
   "execution_count": 5,
   "metadata": {},
   "outputs": [],
   "source": [
    "ss_conn = sqlite3.connect(ss_db_path)\n",
    "ms_conn = sqlite3.connect(ms_db_path)\n",
    "\n",
    "ss_picks_df = pd.read_sql(\"Select * From Picks\",ss_conn)\n",
    "ss_options_df = pd.read_sql(\"Select * From Options\",ss_conn)\n",
    "#ss_passes_df = pd.read_sql(\"Select * From Passes\",ss_conn)\n",
    "ss_prefs_df = pd.read_sql(\"Select * From Preferences\",ss_conn)"
   ]
  },
  {
   "cell_type": "code",
   "execution_count": 6,
   "metadata": {},
   "outputs": [],
   "source": [
    "ms_picks_df = pd.read_sql(\"Select * From Picks\",ms_conn)\n",
    "ms_options_df = pd.read_sql(\"Select * From Options\",ms_conn)\n",
    "ms_pass_df = pd.read_sql(\"Select * From Passes\",ms_conn)\n",
    "ms_prefs_df = pd.read_sql(\"Select * From Preferences\",ms_conn)"
   ]
  },
  {
   "cell_type": "code",
   "execution_count": 7,
   "metadata": {},
   "outputs": [],
   "source": [
    "mpdf = ms_picks_df.drop(columns=['pick_number','drafter','draft_id'])\n",
    "spdf = ss_picks_df.drop(columns=['pick_number','drafter','draft_id'])\n",
    "\n",
    "\n",
    "msof = ms_options_df.drop(columns=['pick_number','drafter','draft_id'])\n",
    "ssof = ss_options_df.drop(columns=['pick_number','drafter','draft_id'])\n",
    "\n",
    "ms_pass_df = ms_pass_df.drop(columns=['pick_number','drafter','draft_id'])\n",
    "\n",
    "ms_prefs_df = ms_prefs_df.drop(columns=['pick_number','drafter','draft_id'])\n",
    "ss_prefs_df = ss_prefs_df.drop(columns=['pick_number','drafter','draft_id'])"
   ]
  },
  {
   "cell_type": "code",
   "execution_count": 8,
   "metadata": {},
   "outputs": [
    {
     "name": "stdout",
     "output_type": "stream",
     "text": [
      "(array([242], dtype=int64),)\n",
      "(array([ 74, 202, 223, 242], dtype=int64),)\n",
      "(array([  0,  11,  23,  27,  30,  35,  43,  49,  66,  74,  77,  93,  96,\n",
      "        97, 101, 103, 106, 107, 110, 118, 121, 128, 132, 134, 142, 148,\n",
      "       153, 156, 172, 173, 181, 189, 190, 193, 198, 201, 202, 205, 210,\n",
      "       215, 219, 220, 222, 223, 234, 242, 243, 245, 247, 260, 269, 274,\n",
      "       275, 276, 278, 284, 285, 287, 289, 301], dtype=int64),)\n",
      "(array([202], dtype=int64),)\n",
      "(array([ 74, 202, 223, 242], dtype=int64),)\n"
     ]
    }
   ],
   "source": [
    "\n",
    "\n",
    "pick_to_explore = 10\n",
    "\n",
    "print(np.where(mpdf.iloc[pick_to_explore]==1))\n",
    "print(np.where(msof.iloc[pick_to_explore]==1))\n",
    "print(np.where(np.sum(ms_pass_df.iloc[0:pick_to_explore],axis=0)!=0))\n",
    "\n",
    "#print(ms_prefs_df.iloc[35])\n",
    "\n",
    "print(np.where(spdf.iloc[pick_to_explore]==1))\n",
    "print(np.where(ssof.iloc[pick_to_explore]==1))\n",
    "#print(ss_prefs_df.iloc[35])"
   ]
  },
  {
   "cell_type": "code",
   "execution_count": 9,
   "metadata": {},
   "outputs": [],
   "source": [
    "ms_conn.close()\n",
    "ss_conn.close()"
   ]
  }
 ],
 "metadata": {
  "interpreter": {
   "hash": "357d08fc6475d5f3d7f5382ddf4b1a0cd6014611561001adf4b40c4ba2d37830"
  },
  "kernelspec": {
   "display_name": "Python 3.8.10 64-bit",
   "language": "python",
   "name": "python3"
  },
  "language_info": {
   "codemirror_mode": {
    "name": "ipython",
    "version": 3
   },
   "file_extension": ".py",
   "mimetype": "text/x-python",
   "name": "python",
   "nbconvert_exporter": "python",
   "pygments_lexer": "ipython3",
   "version": "3.8.10"
  },
  "orig_nbformat": 4
 },
 "nbformat": 4,
 "nbformat_minor": 2
}
