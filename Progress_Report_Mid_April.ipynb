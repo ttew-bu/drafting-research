{
 "cells": [
  {
   "cell_type": "code",
   "execution_count": 2,
   "metadata": {},
   "outputs": [],
   "source": [
    "#SET GLOBAL VARS AND IMPORTS\n",
    "\n",
    "from draftbot_sim_adapted import *\n",
    "from Experimentation_Utils import *\n",
    "from Agents import *\n",
    "import sqlite3\n",
    "import pandas as pd\n",
    "import numpy as np\n",
    "import json\n",
    "import os\n",
    "\n",
    "import matplotlib.pyplot as plt\n",
    "\n",
    "##GLOBAL VARS\n",
    "\n",
    "draft_str='C:/Users/trist/OneDrive/Documents/draft_data_public.VOW.PremierDraft.csv'\n",
    "\n",
    "#Have a couple versions of new/retooled bots to make sure the behavior makes sense over time\n",
    "#Now all bots should auto-generate a unique name so you can differentiate these\n",
    "agents = [Basic_Agent(),\n",
    "Greedy_Agent(),\n",
    "Arch_Reciever_Agent(),\n",
    "Med_Agent(),\n",
    "Dummy_Agent(),\n",
    "Force_K_Agent(k_forced=5),\n",
    "Force_K_Agent(k_forced=15),\n",
    "Force_K_Agent(k_forced=30),\n",
    "Arch_Pass_Agent(),\n",
    "Hard_Agent(),\n",
    "Hard_Agent(bias_function='log10'),\n",
    "Hard_Agent(bias_function='ln')\n",
    "]\n",
    "\n",
    "def run_experiments(weights_list:list,n_iter=4200):\n",
    "    \"Iterate through a folder of weights and automatically generate our experiment data\"\n",
    "    #for each item in our processed weights directory\n",
    "    for it in weights_list:\n",
    "        #Iterate through our files\n",
    "        string = 'weights_data/processed_weights' + '/' + it \n",
    "        simulation_generator(draft_str,string, agents, n_iter, 11)\n",
    "\n",
    "def update_experiments(path:str,n_iter=4200):\n",
    "    \"Iterate through a folder of weights and automatically generate our experiment data\"\n",
    "    #for each item in our processed weights directory\n",
    "    for it in os.listdir('weights_data/processed_weights'):\n",
    "\n",
    "        #Iterate through our files\n",
    "        string = 'weights_data/processed_weights' + '/' + it \n",
    "        simulation_generator(draft_str,string, agents, n_iter, 11)\n",
    "\n",
    "        #no return, this function works on the device\n",
    "\n",
    "def display_draftwise_results(result_path,include_t3_data=False,n_picks=42):\n",
    "    \"\"\"Present results that show what % the bots match \n",
    "    human picks given the filename holding the picks\"\"\"\n",
    "\n",
    "    #Read csv\n",
    "    df = pd.read_csv(result_path)\n",
    "\n",
    "    #Get rid of dummy index column\n",
    "    df = df.iloc[:,1:]\n",
    "\n",
    "    #If you also want to know about t3 data, you can set this flag to true\n",
    "    if include_t3_data == False:\n",
    "        \n",
    "        #Remove all cols that include the str t3\n",
    "        df = df.loc[:,~df.columns.str.contains('t3')]\n",
    "    \n",
    "    #Mean here is avg # of picks matched, so the rate is the avg/total picks\n",
    "    results = df.mean()/n_picks\n",
    "    results = results.sort_values(ascending=False)\n",
    "    print(results)\n",
    "\n",
    "def display_pickwise_results(performance_string, visualization='table'):\n",
    "    \"\"\"Present results that show % bots match human picks at the pick level. \n",
    "    That is, if there are 3 packs of 14 cards, then there are 42 picks at which\n",
    "    the bots will have different accuracies. Each multiple of 14 will have an\n",
    "    accuracy of 100% since you can only pick from one card at these points\"\"\"\n",
    "\n",
    "    df = pd.read_csv(performance_string)\n",
    "\n",
    "    df.rename(columns={'Unnamed: 0':'match_index'}, inplace=True)\n",
    "\n",
    "    #only include cols that keep track of our match boolean values\n",
    "    #also set all colnames to lowercase because some old files have diff capitilzation patterns\n",
    "    df.columns = df.columns.str.lower()\n",
    "    df = df.loc[:,df.columns.str.contains('match')]\n",
    "\n",
    "    #Sub out the text from our input file (Python isn't reading the T/F as boolean by default)\n",
    "    #df = df.replace({False: 0, True: 1})\n",
    "    output_df = df.groupby('match_index').mean()\n",
    "\n",
    "    #Print a df where we have 42 rows (1 per pick in a standard draft), where each bot has an accuracy %\n",
    "    if visualization=='table':\n",
    "        return output_df\n",
    "\n",
    "    #If you also want a plot, add this logic in here\n",
    "    else:\n",
    "    \n",
    "        df.groupby('match_index').mean().plot()\n",
    "\n",
    "        #Move legend off to the side\n",
    "        plt.legend(loc=(1.04,.35))\n",
    "\n",
    "        #Show off the plot\n",
    "        plt.show()"
   ]
  },
  {
   "cell_type": "code",
   "execution_count": 4,
   "metadata": {},
   "outputs": [],
   "source": [
    "weights = ['VOM_weights_seen_rates_minmax.csv','VOM_weights_seen_rates.csv']"
   ]
  },
  {
   "cell_type": "code",
   "execution_count": 5,
   "metadata": {},
   "outputs": [
    {
     "name": "stdout",
     "output_type": "stream",
     "text": [
      "95a82b622c65490a8c5ddbc21f5afbb2\n",
      "7b0f21b198094e0985d42738c054402f\n",
      "1b3a94f1cf114e01804f9a28385a286a\n",
      "936e299f21214a87b2328373402f2a1c\n",
      "b9171387610147bca6123160b4217367\n",
      "0683432f07ea4cb6acf574f09b5e57f0\n",
      "aad7ae124f9c42749c62aea2a284eee6\n",
      "4147b003e9cb46529467ce3eb847691e\n",
      "b170ef68037f411b8dd33dbaa18fd968\n",
      "bce15fafc0e4437db140b3f24bba0025\n",
      "0bd5a520dca64b7f939e6773744f5fc5\n",
      "b4e9d56b730244028a26d5a7d566b1aa\n",
      "4f51492fd85c409184f949863976b441\n",
      "ac1e37a64398420a87da64c4793af507\n",
      "c1950c73281047e48015a90c1d680ac0\n",
      "521556f52af74bbb835a814fa140df3a\n",
      "35d4c8a5197749a3b9c5920c5e60b56c\n",
      "a9a9c298b9f148a0aebce727c7433d70\n",
      "e2c486c6be3f4d7785620c24b41e5e7d\n",
      "110d0f6299364a2eba68c5977acce47a\n",
      "d9db1a60a11249a3a75a1ca709e3e71c\n",
      "6330b1f3b790405d90c2c9846fd3f96d\n",
      "cc2da526847f4ddfa6a9fa7703763b1e\n",
      "3c70983d7e7749219a0e91ec0b8c0a9e\n",
      "e2dd487c4b2f48c6b0841c914701b1d4\n",
      "58c8358ff014433594f1bcd64fcdd355\n",
      "825cbac9b5c843858921648fc49fd519\n",
      "95a82b622c65490a8c5ddbc21f5afbb2\n",
      "7b0f21b198094e0985d42738c054402f\n",
      "1b3a94f1cf114e01804f9a28385a286a\n",
      "936e299f21214a87b2328373402f2a1c\n",
      "b9171387610147bca6123160b4217367\n",
      "0683432f07ea4cb6acf574f09b5e57f0\n",
      "aad7ae124f9c42749c62aea2a284eee6\n",
      "4147b003e9cb46529467ce3eb847691e\n",
      "b170ef68037f411b8dd33dbaa18fd968\n",
      "bce15fafc0e4437db140b3f24bba0025\n",
      "0bd5a520dca64b7f939e6773744f5fc5\n",
      "b4e9d56b730244028a26d5a7d566b1aa\n",
      "4f51492fd85c409184f949863976b441\n",
      "ac1e37a64398420a87da64c4793af507\n",
      "c1950c73281047e48015a90c1d680ac0\n",
      "521556f52af74bbb835a814fa140df3a\n",
      "35d4c8a5197749a3b9c5920c5e60b56c\n",
      "a9a9c298b9f148a0aebce727c7433d70\n",
      "e2c486c6be3f4d7785620c24b41e5e7d\n",
      "110d0f6299364a2eba68c5977acce47a\n",
      "d9db1a60a11249a3a75a1ca709e3e71c\n",
      "6330b1f3b790405d90c2c9846fd3f96d\n",
      "cc2da526847f4ddfa6a9fa7703763b1e\n",
      "3c70983d7e7749219a0e91ec0b8c0a9e\n",
      "e2dd487c4b2f48c6b0841c914701b1d4\n",
      "58c8358ff014433594f1bcd64fcdd355\n",
      "825cbac9b5c843858921648fc49fd519\n"
     ]
    }
   ],
   "source": [
    "#Don't run this unless you want to run ~16 mins of simulations on a good computer\n",
    "#run_experiments(weights,42000)"
   ]
  },
  {
   "cell_type": "code",
   "execution_count": 8,
   "metadata": {},
   "outputs": [
    {
     "name": "stdout",
     "output_type": "stream",
     "text": [
      "t1_sum                               0.706470\n",
      "basic_agent_match                    0.519623\n",
      "hard_agent_8_16_log10_match          0.516115\n",
      "hard_agent_8_16_ln_match             0.515196\n",
      "hard_agent_8_16_linear_match         0.514833\n",
      "arch_receiver_agent_match            0.502783\n",
      "arch_pass_agent_match                0.501645\n",
      "force_k_agent_k_5_match              0.480352\n",
      "force_k_agent_k_15_match             0.473505\n",
      "force_k_agent_k_30_match             0.453494\n",
      "Greedy Agent_turns_greedy_0_match    0.424579\n",
      "med_agent_archs_[0, 1, 2]_match      0.376258\n",
      "dummy_agent_random_match             0.229457\n",
      "dtype: float64\n"
     ]
    }
   ],
   "source": [
    "display_draftwise_results('results_data/VOM_weights_seen_rates_42000.csv')"
   ]
  },
  {
   "cell_type": "code",
   "execution_count": 9,
   "metadata": {},
   "outputs": [
    {
     "name": "stdout",
     "output_type": "stream",
     "text": [
      "t1_sum                               0.655754\n",
      "arch_pass_agent_match                0.460269\n",
      "arch_receiver_agent_match            0.460196\n",
      "basic_agent_match                    0.459713\n",
      "hard_agent_8_16_log10_match          0.458116\n",
      "hard_agent_8_16_ln_match             0.457849\n",
      "hard_agent_8_16_linear_match         0.457632\n",
      "force_k_agent_k_5_match              0.455962\n",
      "force_k_agent_k_15_match             0.441420\n",
      "force_k_agent_k_30_match             0.429612\n",
      "Greedy Agent_turns_greedy_0_match    0.417997\n",
      "med_agent_archs_[0, 1, 2]_match      0.381146\n",
      "dummy_agent_random_match             0.231006\n",
      "dtype: float64\n"
     ]
    }
   ],
   "source": [
    "display_draftwise_results('results_data/VOM_weights_seen_rates_minmax_42000.csv')"
   ]
  },
  {
   "cell_type": "code",
   "execution_count": 49,
   "metadata": {},
   "outputs": [],
   "source": [
    "df = pd.read_csv('index_data/VOM_weights_seen_rates_minmax_42000_index.csv')"
   ]
  },
  {
   "cell_type": "code",
   "execution_count": 50,
   "metadata": {},
   "outputs": [
    {
     "data": {
      "text/plain": [
       "basic_agent_pick_idx                      0.928571\n",
       "Greedy Agent_turns_greedy_0_pick_idx      1.095238\n",
       "arch_receiver_agent_pick_idx              0.952381\n",
       "med_agent_archs_[0, 1, 2]_pick_idx        3.380952\n",
       "dummy_agent_random_pick_idx             104.380952\n",
       "force_k_agent_k_5_pick_idx                0.857143\n",
       "force_k_agent_k_15_pick_idx               0.833333\n",
       "force_k_agent_k_30_pick_idx               1.000000\n",
       "arch_pass_agent_pick_idx                  0.976190\n",
       "hard_agent_8_16_linear_pick_idx           0.928571\n",
       "hard_agent_8_16_log10_pick_idx            0.928571\n",
       "hard_agent_8_16_ln_pick_idx               0.928571\n",
       "dtype: float64"
      ]
     },
     "execution_count": 50,
     "metadata": {},
     "output_type": "execute_result"
    }
   ],
   "source": [
    "df.filter(regex='idx').mean()"
   ]
  }
 ],
 "metadata": {
  "interpreter": {
   "hash": "357d08fc6475d5f3d7f5382ddf4b1a0cd6014611561001adf4b40c4ba2d37830"
  },
  "kernelspec": {
   "display_name": "Python 3.8.10 64-bit",
   "language": "python",
   "name": "python3"
  },
  "language_info": {
   "codemirror_mode": {
    "name": "ipython",
    "version": 3
   },
   "file_extension": ".py",
   "mimetype": "text/x-python",
   "name": "python",
   "nbconvert_exporter": "python",
   "pygments_lexer": "ipython3",
   "version": "3.8.10"
  },
  "orig_nbformat": 4
 },
 "nbformat": 4,
 "nbformat_minor": 2
}
