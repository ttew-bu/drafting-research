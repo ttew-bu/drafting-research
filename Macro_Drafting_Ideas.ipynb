{
 "cells": [
  {
   "cell_type": "code",
   "execution_count": 6,
   "metadata": {},
   "outputs": [],
   "source": [
    "from mtg_draftbot.draftbot.draftbot_sim import *\n",
    "from draftbot_sim_adapted import MultiStratDraft\n",
    "import sqlite3\n",
    "import pandas as pd\n",
    "import numpy as np\n",
    "import json\n",
    "import os"
   ]
  },
  {
   "cell_type": "code",
   "execution_count": 10,
   "metadata": {},
   "outputs": [],
   "source": [
    "draft_path = 'C:/Users/trist/mtg_research/test_draft.txt'\n",
    "cards_path = 'C:/Users/trist/mtg_research/mtg_draftbot/data/m20/m20-cards.json'\n",
    "weights_path = 'C:/Users/trist/mtg_research/mtg_draftbot/data/new_generated_weights.json'"
   ]
  },
  {
   "cell_type": "code",
   "execution_count": 8,
   "metadata": {},
   "outputs": [],
   "source": [
    "def comp_generator(num_iter,n_drafters_strat_one,n_drafters_strat_two,n_cards_in_pack,rounds,cards_path,card_values_path,packs_input_file):\n",
    "    '''Streamline comparison of drafts and create outputs with player prefs;\n",
    "    this gives us quick glances into proxies for how '''\n",
    "\n",
    "    n_drafters = n_drafters_strat_one + n_drafters_strat_two\n",
    "    ss_prefs = []\n",
    "    ms_prefs = []\n",
    "\n",
    "    r = 1\n",
    "\n",
    "    for r in range(1,num_iter+1):\n",
    "          draft_ss = Draft(n_drafters=n_drafters,\n",
    "                    n_rounds=rounds,\n",
    "                    n_cards_in_pack=n_cards_in_pack,\n",
    "                    cards_path=cards_path,\n",
    "                    card_values_path=card_values_path)\n",
    "\n",
    "    draft_ms = MultiStratDraft(n_drafters_strat_one=n_drafters_strat_one,\n",
    "                    n_drafters_strat_two=n_drafters_strat_two,\n",
    "                    n_rounds=rounds,\n",
    "                    n_cards_in_pack=n_cards_in_pack,\n",
    "                    cards_path=cards_path,\n",
    "                    card_values_path=card_values_path,\n",
    "                    packs_input_file=packs_input_file\n",
    "                    )\n",
    "\n",
    "    draft_ss.draft()\n",
    "    result_array = np.empty(0)\n",
    "     #result_array = np.append(result_array,np.arange(0,draft_ss.n_drafters))\n",
    "    for item,idx in enumerate(draft_ss.drafter_preferences):\n",
    "          player=np.append(item,r)\n",
    "          player=np.append(player,idx)\n",
    "          result_array = np.append(result_array,player)\n",
    "    ss_prefs.append(result_array.reshape((8,12)))\n",
    "\n",
    "    if os.path.exists(packs_input_file):\n",
    "               os.remove(packs_input_file)\n",
    "    save_packs_array(draft_ss,packs_input_file)\n",
    "\n",
    "    draft_ms.draft()\n",
    "    result_array = np.empty(0)\n",
    "    for item,idx in enumerate(draft_ms.drafter_preferences):\n",
    "          player=np.append(item,r)\n",
    "          player=np.append(player,idx)\n",
    "          result_array = np.append(result_array,player)\n",
    "\n",
    "    ms_prefs.append(result_array.reshape((8,12)))\n",
    "    r += 1\n",
    "\n",
    "\n",
    "    return (ms_prefs,ss_prefs)\n",
    "\n",
    "def macro_prefs_sum_stats(draft_comp):\n",
    "    '''Take a draft comp and output results'''\n",
    "\n",
    "    ss_prefs = draft_comp[1]\n",
    "    ms_prefs = draft_comp[0]\n",
    "    ss_prefs_df = pd.DataFrame(np.concatenate(ss_prefs))\n",
    "    ms_prefs_df = pd.DataFrame(np.concatenate(ms_prefs))\n",
    "\n",
    "    ssdf = ss_prefs_df.set_index([0,1])\n",
    "    ssdf = ssdf.groupby(by=[0]).mean()\n",
    "    ssdf['maximum'] = ssdf.max(axis=1)\n",
    "    ssdf['minimum'] = ssdf.min(axis=1)\n",
    "    ssdf['average'] = ssdf.mean(axis=1)\n",
    "    ssdf['stdev'] = ssdf.std(axis=1)\n",
    "\n",
    "    msdf = ms_prefs_df.set_index([0,1])\n",
    "    msdf = msdf.groupby(by=[0]).mean()\n",
    "    msdf['maximum'] = msdf.max(axis=1)\n",
    "    msdf['minimum'] = msdf.min(axis=1)\n",
    "    msdf['average'] = msdf.mean(axis=1)\n",
    "    msdf['stdev'] = msdf.std(axis=1)\n",
    "\n",
    "    return (msdf,ssdf)"
   ]
  },
  {
   "cell_type": "code",
   "execution_count": 11,
   "metadata": {},
   "outputs": [],
   "source": [
    "one_k_comp = comp_generator(1000,1,7,14,3,cards_path,weights_path,\n",
    "draft_path)\n",
    "\n",
    "one_k_twosix = comp_generator(1000,2,6,14,3,cards_path,weights_path,\n",
    "draft_path)\n",
    "\n",
    "threefive_k = comp_generator(1000,3,5,14,3,cards_path,weights_path,\n",
    "draft_path)\n",
    "\n",
    "fourfour_k = comp_generator(1000,4,4,14,3,cards_path,weights_path,\n",
    "draft_path)"
   ]
  },
  {
   "cell_type": "code",
   "execution_count": 37,
   "metadata": {},
   "outputs": [],
   "source": [
    "thousand_one = macro_prefs_sum_stats(one_k_comp)\n",
    "thousand_two = macro_prefs_sum_stats(one_k_twosix)\n",
    "thousand_three = macro_prefs_sum_stats(threefive_k)\n",
    "thousand_four = macro_prefs_sum_stats(fourfour_k)"
   ]
  },
  {
   "cell_type": "code",
   "execution_count": 41,
   "metadata": {},
   "outputs": [
    {
     "name": "stdout",
     "output_type": "stream",
     "text": [
      "0\n",
      "0.0   -0.371814\n",
      "1.0    0.286203\n",
      "2.0   -0.073507\n",
      "3.0   -0.200329\n",
      "4.0   -0.081856\n",
      "5.0   -0.266641\n",
      "6.0    0.005531\n",
      "7.0   -0.005342\n",
      "Name: average, dtype: float64\n",
      "0\n",
      "0.0   -1.034843\n",
      "1.0   -0.273083\n",
      "2.0    0.447033\n",
      "3.0    0.131583\n",
      "4.0    0.083300\n",
      "5.0   -0.068632\n",
      "6.0    0.113245\n",
      "7.0    0.017839\n",
      "Name: average, dtype: float64\n"
     ]
    }
   ],
   "source": [
    "#Difference in maxes is largest for the position with the new strategy\n",
    "#Note that a negative reduction here would be analogous to saying that a preference toward the most preferred archetype goes down\n",
    "#That really means that drafter 0 has a more diverse/less specialized pool because they don't have as strong a favored archetype as the others. \n",
    "\n",
    "print(thousand_one[0]['average'] - thousand_one[1]['average'])\n",
    "print(thousand_two[0]['average'] - thousand_two[1]['average'])"
   ]
  },
  {
   "cell_type": "code",
   "execution_count": 40,
   "metadata": {},
   "outputs": [
    {
     "name": "stdout",
     "output_type": "stream",
     "text": [
      "0\n",
      "0.0   -0.287395\n",
      "1.0   -0.348232\n",
      "2.0   -0.855627\n",
      "3.0    0.548763\n",
      "4.0    0.234865\n",
      "5.0    0.426876\n",
      "6.0    0.084884\n",
      "7.0    0.034544\n",
      "Name: average, dtype: float64\n",
      "0\n",
      "0.0   -0.391814\n",
      "1.0   -0.741677\n",
      "2.0   -0.064369\n",
      "3.0    0.158388\n",
      "4.0    0.904265\n",
      "5.0    0.646894\n",
      "6.0   -0.012300\n",
      "7.0   -0.060655\n",
      "Name: average, dtype: float64\n"
     ]
    }
   ],
   "source": [
    "print(thousand_three[0]['average'] - thousand_three[1]['average'])\n",
    "print(thousand_four[0]['average'] - thousand_four[1]['average'])"
   ]
  }
 ],
 "metadata": {
  "interpreter": {
   "hash": "357d08fc6475d5f3d7f5382ddf4b1a0cd6014611561001adf4b40c4ba2d37830"
  },
  "kernelspec": {
   "display_name": "Python 3",
   "language": "python",
   "name": "python3"
  },
  "language_info": {
   "codemirror_mode": {
    "name": "ipython",
    "version": 3
   },
   "file_extension": ".py",
   "mimetype": "text/x-python",
   "name": "python",
   "nbconvert_exporter": "python",
   "pygments_lexer": "ipython3",
   "version": "3.8.5"
  }
 },
 "nbformat": 4,
 "nbformat_minor": 4
}
